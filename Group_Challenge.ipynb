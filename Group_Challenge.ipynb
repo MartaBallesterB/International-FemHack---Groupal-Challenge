{
 "cells": [
  {
   "cell_type": "markdown",
   "id": "4e47a69e",
   "metadata": {},
   "source": [
    "# **Hack the Markets Group Challenge (Femhack 2022)**\n",
    "#### **Category**: Data Science\n",
    "#### **Members**: Miruna Andreea Gheata\n",
    "#### **Date**: 23/01/2022"
   ]
  },
  {
   "cell_type": "markdown",
   "id": "1e201fef",
   "metadata": {},
   "source": [
    "***"
   ]
  },
  {
   "cell_type": "markdown",
   "id": "74e83117",
   "metadata": {},
   "source": [
    "# **Table of contents**"
   ]
  },
  {
   "cell_type": "markdown",
   "id": "34ca1b8c",
   "metadata": {},
   "source": [
    "[1. Introduction to the challenge](#intro)   \n"
   ]
  },
  {
   "cell_type": "markdown",
   "id": "f4209e05",
   "metadata": {},
   "source": [
    "***"
   ]
  },
  {
   "cell_type": "markdown",
   "id": "382bc3db",
   "metadata": {},
   "source": [
    "# **1. Introduction to the challenge**<a class=\"anchor\" id=\"intro\"></a>\n",
    "\n",
    "The challenge definition can be found @[Nuwe](https://nuwe.io/challenge/hack-the-markets-predictive-modelling).\n",
    "\n",
    "<img src=\"img/femhack.jpeg\">"
   ]
  },
  {
   "cell_type": "markdown",
   "id": "b67913ec",
   "metadata": {},
   "source": [
    "## **1.1. Background**\n",
    "\n",
    "To improve the European central bank's decision making, Christine Lagarde would need to have some certainty about future currency market dynamics, in particular, one of the ones she is most concerned about is the EUR/GBP pair. Therefore, they need your team to create a small predictive model for them to know if the value of the Euro will rise or fall against the British pound a month in advance."
   ]
  },
  {
   "cell_type": "markdown",
   "id": "3745eb31",
   "metadata": {},
   "source": [
    "## **1.2. Dataset**\n",
    "A dataset of historical information on the EURO-LIBRA pair is provided. A currency pair is the dyadic quotation of the relative value of a currency unit against the unit of another currency in the foreign exchange market. For example: EURGBP = 0,9 means that 1 EURO has a value of 0,9 GBP. Historical prices in the dataset goes from January 3rd 2000 to Octobre 29th 2019. The information is given on a weekly timeframe, i.e. each row of the dataset corresponds to 1 week. The dataset contains **8 predictor variables**. The predictive variables of the dataset are:\n",
    "\n",
    "```Open```: Price of the pair at the beginning of the day.\n",
    "\n",
    "```High```: Maximum price that the pair reaches during the week.\n",
    "\n",
    "```Low```: Minimum price that the pair reaches during the week.\n",
    "\n",
    "```Close```: Price of the pair at the end of the week.\n",
    "\n",
    "```rsi```: Relative Strength Index, is an indicator that is often used in technical analysis and shows the strength of the price.\n",
    "\n",
    "```ema_fast```: Exponential Moving Average taking the average value of 14 weeks.\n",
    "\n",
    "```ema_slow```: Exponential Moving Average taking the average value of 42 weeks.\n",
    "\n",
    "The moving averages are usually used to detect trends in the markets, when the fast moving average (```ema_fast```) exceeds the slow moving average (```ema_slow```) indicates the beginning of an uptrend.\n",
    "\n",
    "```volatility```: Volatility is a measure of the intensity of changes in the price of an asset. In this case the volatility has been obtained from the NATR (Normalized Average True Range).\n",
    "\n",
    "\n",
    "**Target**:\n",
    "\n",
    "```target```: The target is defined by two values, 1 or 0. If target is 1 means that in the next month, the closing price of the EURGDP pair will be higher than this week's closing price. If target is 0 means that in the next month, the closing price of the EURGDP pair will be lower than this week's closing price."
   ]
  },
  {
   "cell_type": "markdown",
   "id": "e47b8b68",
   "metadata": {},
   "source": [
    "## **1.3. Tasks**\n",
    "\n",
    "1. Generate a predictive classification model (you can use any type of algorithm) that allows you to predict the ‘target’ of the dataset. Train your model with the train dataset, and once you find the model that maximizes the f1-score(macro), input the data from the test_x dataset into your algorithm to get the predictions of your algorithm."
   ]
  },
  {
   "cell_type": "code",
   "execution_count": 14,
   "id": "a4659163",
   "metadata": {},
   "outputs": [],
   "source": [
    "import pandas as pd\n",
    "import numpy as np\n",
    "import plotly\n",
    "import matplotlib.pyplot as plt\n",
    "import seaborn as sns"
   ]
  },
  {
   "cell_type": "code",
   "execution_count": 5,
   "id": "3a46d175",
   "metadata": {},
   "outputs": [
    {
     "data": {
      "text/html": [
       "<div>\n",
       "<style scoped>\n",
       "    .dataframe tbody tr th:only-of-type {\n",
       "        vertical-align: middle;\n",
       "    }\n",
       "\n",
       "    .dataframe tbody tr th {\n",
       "        vertical-align: top;\n",
       "    }\n",
       "\n",
       "    .dataframe thead th {\n",
       "        text-align: right;\n",
       "    }\n",
       "</style>\n",
       "<table border=\"1\" class=\"dataframe\">\n",
       "  <thead>\n",
       "    <tr style=\"text-align: right;\">\n",
       "      <th></th>\n",
       "      <th>Date</th>\n",
       "      <th>Open</th>\n",
       "      <th>High</th>\n",
       "      <th>Low</th>\n",
       "      <th>Close</th>\n",
       "      <th>rsi</th>\n",
       "      <th>ema_fast</th>\n",
       "      <th>ema_slow</th>\n",
       "      <th>volatility</th>\n",
       "      <th>target</th>\n",
       "    </tr>\n",
       "  </thead>\n",
       "  <tbody>\n",
       "    <tr>\n",
       "      <th>0</th>\n",
       "      <td>2000-01-03</td>\n",
       "      <td>0.62810</td>\n",
       "      <td>0.63300</td>\n",
       "      <td>0.62350</td>\n",
       "      <td>0.62720</td>\n",
       "      <td>NaN</td>\n",
       "      <td>NaN</td>\n",
       "      <td>NaN</td>\n",
       "      <td>NaN</td>\n",
       "      <td>0</td>\n",
       "    </tr>\n",
       "    <tr>\n",
       "      <th>1</th>\n",
       "      <td>2000-01-10</td>\n",
       "      <td>0.62710</td>\n",
       "      <td>0.62900</td>\n",
       "      <td>0.61810</td>\n",
       "      <td>0.61970</td>\n",
       "      <td>NaN</td>\n",
       "      <td>NaN</td>\n",
       "      <td>NaN</td>\n",
       "      <td>NaN</td>\n",
       "      <td>0</td>\n",
       "    </tr>\n",
       "    <tr>\n",
       "      <th>2</th>\n",
       "      <td>2000-01-17</td>\n",
       "      <td>0.62000</td>\n",
       "      <td>0.62250</td>\n",
       "      <td>0.60720</td>\n",
       "      <td>0.60900</td>\n",
       "      <td>NaN</td>\n",
       "      <td>NaN</td>\n",
       "      <td>NaN</td>\n",
       "      <td>NaN</td>\n",
       "      <td>1</td>\n",
       "    </tr>\n",
       "    <tr>\n",
       "      <th>3</th>\n",
       "      <td>2000-01-24</td>\n",
       "      <td>0.60910</td>\n",
       "      <td>0.61271</td>\n",
       "      <td>0.59900</td>\n",
       "      <td>0.60270</td>\n",
       "      <td>NaN</td>\n",
       "      <td>NaN</td>\n",
       "      <td>NaN</td>\n",
       "      <td>NaN</td>\n",
       "      <td>1</td>\n",
       "    </tr>\n",
       "    <tr>\n",
       "      <th>4</th>\n",
       "      <td>2000-01-31</td>\n",
       "      <td>0.60210</td>\n",
       "      <td>0.62670</td>\n",
       "      <td>0.59800</td>\n",
       "      <td>0.61580</td>\n",
       "      <td>NaN</td>\n",
       "      <td>NaN</td>\n",
       "      <td>NaN</td>\n",
       "      <td>NaN</td>\n",
       "      <td>0</td>\n",
       "    </tr>\n",
       "    <tr>\n",
       "      <th>...</th>\n",
       "      <td>...</td>\n",
       "      <td>...</td>\n",
       "      <td>...</td>\n",
       "      <td>...</td>\n",
       "      <td>...</td>\n",
       "      <td>...</td>\n",
       "      <td>...</td>\n",
       "      <td>...</td>\n",
       "      <td>...</td>\n",
       "      <td>...</td>\n",
       "    </tr>\n",
       "    <tr>\n",
       "      <th>1030</th>\n",
       "      <td>2019-09-30</td>\n",
       "      <td>0.89002</td>\n",
       "      <td>0.89365</td>\n",
       "      <td>0.88333</td>\n",
       "      <td>0.88779</td>\n",
       "      <td>47.151897</td>\n",
       "      <td>0.895761</td>\n",
       "      <td>0.889108</td>\n",
       "      <td>1.564625</td>\n",
       "      <td>0</td>\n",
       "    </tr>\n",
       "    <tr>\n",
       "      <th>1031</th>\n",
       "      <td>2019-10-07</td>\n",
       "      <td>0.89050</td>\n",
       "      <td>0.90183</td>\n",
       "      <td>0.86835</td>\n",
       "      <td>0.86835</td>\n",
       "      <td>37.551961</td>\n",
       "      <td>0.892106</td>\n",
       "      <td>0.888143</td>\n",
       "      <td>1.760791</td>\n",
       "      <td>0</td>\n",
       "    </tr>\n",
       "    <tr>\n",
       "      <th>1032</th>\n",
       "      <td>2019-10-14</td>\n",
       "      <td>0.87443</td>\n",
       "      <td>0.88081</td>\n",
       "      <td>0.85808</td>\n",
       "      <td>0.86451</td>\n",
       "      <td>35.993098</td>\n",
       "      <td>0.888426</td>\n",
       "      <td>0.887044</td>\n",
       "      <td>1.830085</td>\n",
       "      <td>0</td>\n",
       "    </tr>\n",
       "    <tr>\n",
       "      <th>1033</th>\n",
       "      <td>2019-10-21</td>\n",
       "      <td>0.86453</td>\n",
       "      <td>0.86687</td>\n",
       "      <td>0.85770</td>\n",
       "      <td>0.86380</td>\n",
       "      <td>35.698024</td>\n",
       "      <td>0.885143</td>\n",
       "      <td>0.885962</td>\n",
       "      <td>1.776589</td>\n",
       "      <td>0</td>\n",
       "    </tr>\n",
       "    <tr>\n",
       "      <th>1034</th>\n",
       "      <td>2019-10-28</td>\n",
       "      <td>0.86390</td>\n",
       "      <td>0.86520</td>\n",
       "      <td>0.85958</td>\n",
       "      <td>0.86280</td>\n",
       "      <td>35.259578</td>\n",
       "      <td>0.882164</td>\n",
       "      <td>0.884885</td>\n",
       "      <td>1.698128</td>\n",
       "      <td>0</td>\n",
       "    </tr>\n",
       "  </tbody>\n",
       "</table>\n",
       "<p>1035 rows × 10 columns</p>\n",
       "</div>"
      ],
      "text/plain": [
       "            Date     Open     High      Low    Close        rsi  ema_fast  \\\n",
       "0     2000-01-03  0.62810  0.63300  0.62350  0.62720        NaN       NaN   \n",
       "1     2000-01-10  0.62710  0.62900  0.61810  0.61970        NaN       NaN   \n",
       "2     2000-01-17  0.62000  0.62250  0.60720  0.60900        NaN       NaN   \n",
       "3     2000-01-24  0.60910  0.61271  0.59900  0.60270        NaN       NaN   \n",
       "4     2000-01-31  0.60210  0.62670  0.59800  0.61580        NaN       NaN   \n",
       "...          ...      ...      ...      ...      ...        ...       ...   \n",
       "1030  2019-09-30  0.89002  0.89365  0.88333  0.88779  47.151897  0.895761   \n",
       "1031  2019-10-07  0.89050  0.90183  0.86835  0.86835  37.551961  0.892106   \n",
       "1032  2019-10-14  0.87443  0.88081  0.85808  0.86451  35.993098  0.888426   \n",
       "1033  2019-10-21  0.86453  0.86687  0.85770  0.86380  35.698024  0.885143   \n",
       "1034  2019-10-28  0.86390  0.86520  0.85958  0.86280  35.259578  0.882164   \n",
       "\n",
       "      ema_slow  volatility  target  \n",
       "0          NaN         NaN       0  \n",
       "1          NaN         NaN       0  \n",
       "2          NaN         NaN       1  \n",
       "3          NaN         NaN       1  \n",
       "4          NaN         NaN       0  \n",
       "...        ...         ...     ...  \n",
       "1030  0.889108    1.564625       0  \n",
       "1031  0.888143    1.760791       0  \n",
       "1032  0.887044    1.830085       0  \n",
       "1033  0.885962    1.776589       0  \n",
       "1034  0.884885    1.698128       0  \n",
       "\n",
       "[1035 rows x 10 columns]"
      ]
     },
     "execution_count": 5,
     "metadata": {},
     "output_type": "execute_result"
    }
   ],
   "source": [
    "train = pd.read_csv(\"train.csv\")\n",
    "train"
   ]
  },
  {
   "cell_type": "code",
   "execution_count": 6,
   "id": "98fbc341",
   "metadata": {},
   "outputs": [
    {
     "data": {
      "text/html": [
       "<div>\n",
       "<style scoped>\n",
       "    .dataframe tbody tr th:only-of-type {\n",
       "        vertical-align: middle;\n",
       "    }\n",
       "\n",
       "    .dataframe tbody tr th {\n",
       "        vertical-align: top;\n",
       "    }\n",
       "\n",
       "    .dataframe thead th {\n",
       "        text-align: right;\n",
       "    }\n",
       "</style>\n",
       "<table border=\"1\" class=\"dataframe\">\n",
       "  <thead>\n",
       "    <tr style=\"text-align: right;\">\n",
       "      <th></th>\n",
       "      <th>Open</th>\n",
       "      <th>High</th>\n",
       "      <th>Low</th>\n",
       "      <th>Close</th>\n",
       "      <th>rsi</th>\n",
       "      <th>ema_fast</th>\n",
       "      <th>ema_slow</th>\n",
       "      <th>volatility</th>\n",
       "      <th>target</th>\n",
       "    </tr>\n",
       "  </thead>\n",
       "  <tbody>\n",
       "    <tr>\n",
       "      <th>count</th>\n",
       "      <td>1035.000000</td>\n",
       "      <td>1035.000000</td>\n",
       "      <td>1035.000000</td>\n",
       "      <td>1035.000000</td>\n",
       "      <td>1021.000000</td>\n",
       "      <td>1022.000000</td>\n",
       "      <td>994.000000</td>\n",
       "      <td>1021.000000</td>\n",
       "      <td>1035.000000</td>\n",
       "    </tr>\n",
       "    <tr>\n",
       "      <th>mean</th>\n",
       "      <td>0.766462</td>\n",
       "      <td>0.775037</td>\n",
       "      <td>0.758744</td>\n",
       "      <td>0.766788</td>\n",
       "      <td>51.264480</td>\n",
       "      <td>0.767037</td>\n",
       "      <td>0.767578</td>\n",
       "      <td>2.155019</td>\n",
       "      <td>0.503382</td>\n",
       "    </tr>\n",
       "    <tr>\n",
       "      <th>std</th>\n",
       "      <td>0.099069</td>\n",
       "      <td>0.109941</td>\n",
       "      <td>0.101508</td>\n",
       "      <td>0.099102</td>\n",
       "      <td>10.268314</td>\n",
       "      <td>0.097296</td>\n",
       "      <td>0.093424</td>\n",
       "      <td>1.480081</td>\n",
       "      <td>0.500230</td>\n",
       "    </tr>\n",
       "    <tr>\n",
       "      <th>min</th>\n",
       "      <td>0.578300</td>\n",
       "      <td>0.587600</td>\n",
       "      <td>0.006600</td>\n",
       "      <td>0.578400</td>\n",
       "      <td>19.171099</td>\n",
       "      <td>0.598982</td>\n",
       "      <td>0.607234</td>\n",
       "      <td>1.006340</td>\n",
       "      <td>0.000000</td>\n",
       "    </tr>\n",
       "    <tr>\n",
       "      <th>25%</th>\n",
       "      <td>0.679100</td>\n",
       "      <td>0.684500</td>\n",
       "      <td>0.674500</td>\n",
       "      <td>0.679100</td>\n",
       "      <td>44.383073</td>\n",
       "      <td>0.680563</td>\n",
       "      <td>0.682325</td>\n",
       "      <td>1.467247</td>\n",
       "      <td>0.000000</td>\n",
       "    </tr>\n",
       "    <tr>\n",
       "      <th>50%</th>\n",
       "      <td>0.787900</td>\n",
       "      <td>0.794610</td>\n",
       "      <td>0.781000</td>\n",
       "      <td>0.787800</td>\n",
       "      <td>50.741770</td>\n",
       "      <td>0.789053</td>\n",
       "      <td>0.783807</td>\n",
       "      <td>1.840244</td>\n",
       "      <td>1.000000</td>\n",
       "    </tr>\n",
       "    <tr>\n",
       "      <th>75%</th>\n",
       "      <td>0.859930</td>\n",
       "      <td>0.867000</td>\n",
       "      <td>0.851450</td>\n",
       "      <td>0.861200</td>\n",
       "      <td>57.693333</td>\n",
       "      <td>0.859042</td>\n",
       "      <td>0.856121</td>\n",
       "      <td>2.235330</td>\n",
       "      <td>1.000000</td>\n",
       "    </tr>\n",
       "    <tr>\n",
       "      <th>max</th>\n",
       "      <td>0.961400</td>\n",
       "      <td>2.233500</td>\n",
       "      <td>0.943800</td>\n",
       "      <td>0.961600</td>\n",
       "      <td>79.522395</td>\n",
       "      <td>0.903959</td>\n",
       "      <td>0.889572</td>\n",
       "      <td>17.421381</td>\n",
       "      <td>1.000000</td>\n",
       "    </tr>\n",
       "  </tbody>\n",
       "</table>\n",
       "</div>"
      ],
      "text/plain": [
       "              Open         High          Low        Close          rsi  \\\n",
       "count  1035.000000  1035.000000  1035.000000  1035.000000  1021.000000   \n",
       "mean      0.766462     0.775037     0.758744     0.766788    51.264480   \n",
       "std       0.099069     0.109941     0.101508     0.099102    10.268314   \n",
       "min       0.578300     0.587600     0.006600     0.578400    19.171099   \n",
       "25%       0.679100     0.684500     0.674500     0.679100    44.383073   \n",
       "50%       0.787900     0.794610     0.781000     0.787800    50.741770   \n",
       "75%       0.859930     0.867000     0.851450     0.861200    57.693333   \n",
       "max       0.961400     2.233500     0.943800     0.961600    79.522395   \n",
       "\n",
       "          ema_fast    ema_slow   volatility       target  \n",
       "count  1022.000000  994.000000  1021.000000  1035.000000  \n",
       "mean      0.767037    0.767578     2.155019     0.503382  \n",
       "std       0.097296    0.093424     1.480081     0.500230  \n",
       "min       0.598982    0.607234     1.006340     0.000000  \n",
       "25%       0.680563    0.682325     1.467247     0.000000  \n",
       "50%       0.789053    0.783807     1.840244     1.000000  \n",
       "75%       0.859042    0.856121     2.235330     1.000000  \n",
       "max       0.903959    0.889572    17.421381     1.000000  "
      ]
     },
     "execution_count": 6,
     "metadata": {},
     "output_type": "execute_result"
    }
   ],
   "source": [
    "train.describe()"
   ]
  },
  {
   "cell_type": "code",
   "execution_count": 7,
   "id": "6637338a",
   "metadata": {},
   "outputs": [],
   "source": [
    "pd.set_option(\"display.max_rows\", None, \"display.max_columns\", None)\n",
    "def na_count(df):\n",
    "    '''\n",
    "    Counts the total number of null records of each column in the df.\n",
    "    :param df: dataframe to examine. \n",
    "    '''\n",
    "    print('Feature   Number of NaN')\n",
    "    print(df.isnull().sum().sort_values(ascending=True))#.loc[lambda x : x!=0])"
   ]
  },
  {
   "cell_type": "code",
   "execution_count": 8,
   "id": "85fcc534",
   "metadata": {},
   "outputs": [
    {
     "name": "stdout",
     "output_type": "stream",
     "text": [
      "Feature   Number of NaN\n",
      "Date           0\n",
      "Open           0\n",
      "High           0\n",
      "Low            0\n",
      "Close          0\n",
      "target         0\n",
      "ema_fast      13\n",
      "rsi           14\n",
      "volatility    14\n",
      "ema_slow      41\n",
      "dtype: int64\n"
     ]
    }
   ],
   "source": [
    "na_count(train)"
   ]
  },
  {
   "cell_type": "code",
   "execution_count": 9,
   "id": "eb1b4117",
   "metadata": {},
   "outputs": [],
   "source": [
    "train = train.dropna()"
   ]
  },
  {
   "cell_type": "code",
   "execution_count": 10,
   "id": "7747fcba",
   "metadata": {},
   "outputs": [
    {
     "name": "stdout",
     "output_type": "stream",
     "text": [
      "<class 'pandas.core.frame.DataFrame'>\n",
      "Int64Index: 994 entries, 41 to 1034\n",
      "Data columns (total 10 columns):\n",
      " #   Column      Non-Null Count  Dtype  \n",
      "---  ------      --------------  -----  \n",
      " 0   Date        994 non-null    object \n",
      " 1   Open        994 non-null    float64\n",
      " 2   High        994 non-null    float64\n",
      " 3   Low         994 non-null    float64\n",
      " 4   Close       994 non-null    float64\n",
      " 5   rsi         994 non-null    float64\n",
      " 6   ema_fast    994 non-null    float64\n",
      " 7   ema_slow    994 non-null    float64\n",
      " 8   volatility  994 non-null    float64\n",
      " 9   target      994 non-null    int64  \n",
      "dtypes: float64(8), int64(1), object(1)\n",
      "memory usage: 85.4+ KB\n"
     ]
    }
   ],
   "source": [
    "train.info()"
   ]
  },
  {
   "cell_type": "code",
   "execution_count": 44,
   "id": "b7f03e2b",
   "metadata": {},
   "outputs": [
    {
     "data": {
      "text/plain": [
       "1    507\n",
       "0    487\n",
       "Name: target, dtype: int64"
      ]
     },
     "execution_count": 44,
     "metadata": {},
     "output_type": "execute_result"
    }
   ],
   "source": [
    "train['target'].value_counts()"
   ]
  },
  {
   "cell_type": "code",
   "execution_count": 45,
   "id": "49ed4099",
   "metadata": {},
   "outputs": [
    {
     "data": {
      "text/plain": [
       "Open         -0.104824\n",
       "High         -0.081774\n",
       "Low          -0.113715\n",
       "Close        -0.108738\n",
       "rsi          -0.046545\n",
       "ema_fast     -0.097900\n",
       "ema_slow     -0.090974\n",
       "volatility    0.021214\n",
       "dtype: float64"
      ]
     },
     "execution_count": 45,
     "metadata": {},
     "output_type": "execute_result"
    }
   ],
   "source": [
    "train.drop(columns=['target']).corrwith(train['target'])"
   ]
  },
  {
   "cell_type": "code",
   "execution_count": 11,
   "id": "43183e7a",
   "metadata": {},
   "outputs": [],
   "source": [
    "y_train = train['target']\n",
    "X_train = train.loc[:, train.columns != 'target']"
   ]
  },
  {
   "cell_type": "code",
   "execution_count": null,
   "id": "056ddf2c",
   "metadata": {},
   "outputs": [],
   "source": [
    "train"
   ]
  },
  {
   "cell_type": "code",
   "execution_count": 15,
   "id": "2d608b81",
   "metadata": {},
   "outputs": [
    {
     "data": {
      "text/plain": [
       "<AxesSubplot:>"
      ]
     },
     "execution_count": 15,
     "metadata": {},
     "output_type": "execute_result"
    },
    {
     "data": {
      "image/png": "[encoded data removed]",
      "text/plain": [
       "<Figure size 2160x720 with 2 Axes>"
      ]
     },
     "metadata": {
      "needs_background": "light"
     },
     "output_type": "display_data"
    }
   ],
   "source": [
    "corrmat = train.corr()\n",
    "\n",
    "f, ax = plt.subplots(figsize=(30, 10))\n",
    "\n",
    "sns.heatmap(corrmat, ax=ax, cmap='YlGnBu', linewidth=0.1)"
   ]
  },
  {
   "cell_type": "code",
   "execution_count": 20,
   "id": "bfea0296",
   "metadata": {},
   "outputs": [
    {
     "data": {
      "text/plain": [
       "Open         -0.104824\n",
       "High         -0.081774\n",
       "Low          -0.113715\n",
       "Close        -0.108738\n",
       "rsi          -0.046545\n",
       "ema_fast     -0.097900\n",
       "ema_slow     -0.090974\n",
       "volatility    0.021214\n",
       "dtype: float64"
      ]
     },
     "execution_count": 20,
     "metadata": {},
     "output_type": "execute_result"
    }
   ],
   "source": []
  },
  {
   "cell_type": "code",
   "execution_count": 48,
   "id": "24edfb65",
   "metadata": {},
   "outputs": [
    {
     "ename": "TypeError",
     "evalue": "scatter() missing 1 required positional argument: 'y'",
     "output_type": "error",
     "traceback": [
      "\u001b[0;31m---------------------------------------------------------------------------\u001b[0m",
      "\u001b[0;31mTypeError\u001b[0m                                 Traceback (most recent call last)",
      "Input \u001b[0;32mIn [48]\u001b[0m, in \u001b[0;36m<module>\u001b[0;34m\u001b[0m\n\u001b[1;32m      1\u001b[0m \u001b[38;5;28;01mfor\u001b[39;00m feature \u001b[38;5;129;01min\u001b[39;00m X_train\u001b[38;5;241m.\u001b[39mcolumns:\n\u001b[0;32m----> 2\u001b[0m     \u001b[43mplt\u001b[49m\u001b[38;5;241;43m.\u001b[39;49m\u001b[43mscatter\u001b[49m\u001b[43m(\u001b[49m\u001b[43mX_train\u001b[49m\u001b[43m[\u001b[49m\u001b[43mfeature\u001b[49m\u001b[43m]\u001b[49m\u001b[43m,\u001b[49m\u001b[43m \u001b[49m\u001b[43mhue\u001b[49m\u001b[38;5;241;43m=\u001b[39;49m\u001b[43my_train\u001b[49m\u001b[43m)\u001b[49m\n\u001b[1;32m      3\u001b[0m     plt\u001b[38;5;241m.\u001b[39mshow()\n",
      "\u001b[0;31mTypeError\u001b[0m: scatter() missing 1 required positional argument: 'y'"
     ]
    }
   ],
   "source": [
    "for feature in X_train.columns:\n",
    "    plt.scatter(X_train[feature], hue=y_train)\n",
    "    plt.show()"
   ]
  },
  {
   "cell_type": "code",
   "execution_count": 49,
   "id": "312f1cf4",
   "metadata": {},
   "outputs": [
    {
     "data": {
      "text/plain": [
       "(array([487.,   0.,   0.,   0.,   0.,   0.,   0.,   0.,   0., 507.]),\n",
       " array([0. , 0.1, 0.2, 0.3, 0.4, 0.5, 0.6, 0.7, 0.8, 0.9, 1. ]),\n",
       " <BarContainer object of 10 artists>)"
      ]
     },
     "execution_count": 49,
     "metadata": {},
     "output_type": "execute_result"
    },
    {
     "data": {
      "image/png": "[encoded data removed]",
      "text/plain": [
       "<Figure size 432x288 with 1 Axes>"
      ]
     },
     "metadata": {
      "needs_background": "light"
     },
     "output_type": "display_data"
    }
   ],
   "source": [
    "plt.hist(train['target'])"
   ]
  },
  {
   "cell_type": "code",
   "execution_count": 52,
   "id": "88e50e92",
   "metadata": {},
   "outputs": [],
   "source": [
    "percentages = (train['target'] / train['target'].sum()) * 100"
   ]
  },
  {
   "cell_type": "code",
   "execution_count": null,
   "id": "80fef5bb",
   "metadata": {},
   "outputs": [],
   "source": [
    "fig1, ax1 = plt.subplots()\n",
    "ax1.pie([])"
   ]
  }
 ],
 "metadata": {
  "kernelspec": {
   "display_name": "femhack",
   "language": "python",
   "name": "femhack"
  },
  "language_info": {
   "codemirror_mode": {
    "name": "ipython",
    "version": 3
   },
   "file_extension": ".py",
   "mimetype": "text/x-python",
   "name": "python",
   "nbconvert_exporter": "python",
   "pygments_lexer": "ipython3",
   "version": "3.9.7"
  }
 },
 "nbformat": 4,
 "nbformat_minor": 5
}
